{
 "cells": [
  {
   "cell_type": "code",
   "execution_count": 4,
   "metadata": {},
   "outputs": [
    {
     "data": {
      "text/plain": [
       "'0'"
      ]
     },
     "execution_count": 4,
     "metadata": {},
     "output_type": "execute_result"
    }
   ],
   "source": [
    "# political_twitter_archive-master/\n",
    "# political_twitter_archive-master/realdonaldtrum\n",
    "import csv\n",
    "\n",
    "f = open(\"political_twitter_archive-master/realdonaldtrump/realdonaldtrump.csv\")\n",
    "reader = csv.DictReader(f, delimiter=',',quotechar='\"') #dict reader um daten in einem dict zu haben :) reader ist eine liste von dicts\n",
    "data = list(reader)\n",
    "d = data[0]\n",
    "d['favorite_count'] #sowas können wir dank csv.dictreader veranstalten\n"
   ]
  },
  {
   "cell_type": "code",
   "execution_count": 5,
   "metadata": {
    "collapsed": true
   },
   "outputs": [],
   "source": [
    "import datetime, dateutil"
   ]
  },
  {
   "cell_type": "code",
   "execution_count": 6,
   "metadata": {},
   "outputs": [
    {
     "name": "stdout",
     "output_type": "stream",
     "text": [
      "2017-01-27 16:27:02+00:00\n"
     ]
    }
   ],
   "source": [
    "date = d['created_at']\n",
    "parsed = dateutil.parser.parse(date)\n",
    "print(parsed)\n",
    "\n"
   ]
  },
  {
   "cell_type": "code",
   "execution_count": 7,
   "metadata": {
    "collapsed": true
   },
   "outputs": [],
   "source": [
    "import numpy as np"
   ]
  },
  {
   "cell_type": "code",
   "execution_count": 38,
   "metadata": {},
   "outputs": [],
   "source": [
    "#funktion zum parsen von allen daten, nachdem wir mit dem ersten eintrag ausprobiert haben wie wir z.B. das Datum parsen können\n",
    "favs = np.array([int(d['favorite_count']) for d in data])\n",
    "dates = np.array([dateutil.parser.parse(d['created_at']) for d in data])\n",
    "texts = np.array([d['text'] for d in data])\n",
    "retweet_count = np.array([int(d['retweet_count']) for d in data])\n",
    "\n"
   ]
  },
  {
   "cell_type": "code",
   "execution_count": 10,
   "metadata": {},
   "outputs": [],
   "source": [
    "import matplotlib.pyplot as plt"
   ]
  },
  {
   "cell_type": "code",
   "execution_count": 29,
   "metadata": {},
   "outputs": [
    {
     "data": {
      "image/png": "[encoded data removed]",
      "text/plain": [
       "<matplotlib.figure.Figure at 0x7faba59d3518>"
      ]
     },
     "metadata": {},
     "output_type": "display_data"
    }
   ],
   "source": [
    "plt.plot(dates,favs)\n",
    "plt.show()\n"
   ]
  },
  {
   "cell_type": "code",
   "execution_count": 9,
   "metadata": {},
   "outputs": [],
   "source": [
    "mask1 = favs < 400000\n"
   ]
  },
  {
   "cell_type": "code",
   "execution_count": 32,
   "metadata": {},
   "outputs": [
    {
     "name": "stdout",
     "output_type": "stream",
     "text": [
      "The #MarchForLife is so important. To all of you marching --- you have my full support!\n"
     ]
    }
   ],
   "source": [
    "print(texts[0])"
   ]
  },
  {
   "cell_type": "code",
   "execution_count": 40,
   "metadata": {
    "collapsed": true
   },
   "outputs": [],
   "source": [
    "import nltk"
   ]
  },
  {
   "cell_type": "code",
   "execution_count": 63,
   "metadata": {},
   "outputs": [
    {
     "name": "stdout",
     "output_type": "stream",
     "text": [
      "it obama he you realdonaldtrump the trump me that i she china there a\n",
      "barackobama iran isis her obamacare us\n",
      "None\n",
      "big great real major massive true tremendous wonderful that small out\n",
      "new nice full your realdonaldtrump good the all bigger\n",
      "None\n",
      "it realdonaldtrump he obama trump the you barackobama me this iran i\n",
      "america she that us obamacare there mittromney all\n",
      "None\n"
     ]
    }
   ],
   "source": [
    "# concatenate and nltk text the texts\n",
    "\n",
    "all_texts = ' '.join(texts)\n",
    "tokens = nltk.word_tokenize(all_texts)\n",
    "trump_text = nltk.Text(tokens)\n",
    "\n",
    "\n",
    "print(trump_text.similar('Hillary'))\n",
    "print(trump_text.similar('HUGE'))\n",
    "print(trump_text.similar('China'))\n",
    "\n",
    "# most frequent words\n",
    "# common contexts and similar\n",
    "# Order texts by date\n",
    "# "
   ]
  }
 ],
 "metadata": {
  "kernelspec": {
   "display_name": "Python [conda root]",
   "language": "python",
   "name": "conda-root-py"
  },
  "language_info": {
   "codemirror_mode": {
    "name": "ipython",
    "version": 3
   },
   "file_extension": ".py",
   "mimetype": "text/x-python",
   "name": "python",
   "nbconvert_exporter": "python",
   "pygments_lexer": "ipython3",
   "version": "3.5.3"
  }
 },
 "nbformat": 4,
 "nbformat_minor": 2
}
